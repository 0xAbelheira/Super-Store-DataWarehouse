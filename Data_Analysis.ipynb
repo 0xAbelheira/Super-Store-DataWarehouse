{
 "cells": [
  {
   "cell_type": "code",
   "execution_count": null,
   "metadata": {},
   "outputs": [],
   "source": [
    "import mysql.connector\n",
    "from dotenv import load_dotenv\n",
    "import os\n",
    "\n",
    "# Carrega variáveis do ficheiro .env\n",
    "load_dotenv()\n",
    "\n",
    "# Conexão à base de dados\n",
    "conn = mysql.connector.connect(\n",
    "    host=os.getenv(\"DB_HOST\"),\n",
    "    user=os.getenv(\"DB_USER\"),\n",
    "    password=os.getenv(\"DB_PASSWORD\"),\n",
    "    database=os.getenv(\"DB_NAME\")\n",
    ")\n",
    "\n",
    "print(\"✅ Ligado à base de dados com sucesso.\")\n"
   ]
  },
  {
   "cell_type": "code",
   "execution_count": null,
   "metadata": {},
   "outputs": [],
   "source": [
    "# Célula: Evolução das Vendas por Mês e Ano\n",
    "query = \"\"\"\n",
    "SELECT \n",
    "    cm.year_number AS ano,\n",
    "    cm.calendar_month_number AS mes_num,\n",
    "    cm.calendar_month_name AS mes_nome,\n",
    "    SUM(o.sales_order) AS total_vendas\n",
    "FROM Orders o\n",
    "JOIN CalendarMonth cm ON o.order_calendar_id = cm.calendar_month_id\n",
    "GROUP BY cm.year_number, cm.calendar_month_number, cm.calendar_month_name\n",
    "ORDER BY cm.year_number, cm.calendar_month_number;\n",
    "\"\"\"\n",
    "\n",
    "df = pd.read_sql(query, conn)\n",
    "df[\"ano_mes\"] = df[\"ano\"].astype(str) + \"-\" + df[\"mes_num\"].astype(str).str.zfill(2)\n",
    "\n",
    "plt.figure(figsize=(14, 6))\n",
    "sns.lineplot(data=df, x=\"ano_mes\", y=\"total_vendas\", marker=\"o\")\n",
    "plt.title(\"Evolução das Vendas por Mês e Ano\")\n",
    "plt.xlabel(\"Ano-Mês\")\n",
    "plt.ylabel(\"Total de Vendas\")\n",
    "plt.xticks(rotation=45)\n",
    "plt.tight_layout()\n",
    "plt.show()\n"
   ]
  },
  {
   "cell_type": "markdown",
   "metadata": {},
   "source": [
    "O gráfico revela a evolução das vendas ao longo do tempo. Picos ou quedas podem indicar sazonalidades ou efeitos de promoções, ajudando na previsão e planejamento estratégico."
   ]
  },
  {
   "cell_type": "code",
   "execution_count": null,
   "metadata": {},
   "outputs": [],
   "source": [
    "# Célula: Lucro por Região\n",
    "query = \"\"\"\n",
    "SELECT \n",
    "    r.region_name AS regiao,\n",
    "    SUM(o.profit_order) AS total_lucro\n",
    "FROM Orders o\n",
    "JOIN Location l ON o.location_id = l.location_id\n",
    "JOIN State s ON l.state_id = s.state_id\n",
    "JOIN Region r ON s.region_id = r.region_id\n",
    "GROUP BY r.region_name\n",
    "ORDER BY total_lucro DESC;\n",
    "\"\"\"\n",
    "\n",
    "df = pd.read_sql(query, conn)\n",
    "\n",
    "plt.figure(figsize=(10,6))\n",
    "sns.barplot(data=df, x=\"regiao\", y=\"total_lucro\", palette=\"viridis\")\n",
    "plt.title(\"Lucro por Região\")\n",
    "plt.xlabel(\"Região\")\n",
    "plt.ylabel(\"Total de Lucro\")\n",
    "plt.xticks(rotation=45)\n",
    "plt.tight_layout()\n",
    "plt.show()\n"
   ]
  },
  {
   "cell_type": "markdown",
   "metadata": {},
   "source": [
    "Este gráfico identifica quais regiões geram maior lucro, podendo orientar decisões de investimento, marketing e distribuição de recursos."
   ]
  },
  {
   "cell_type": "code",
   "execution_count": null,
   "metadata": {},
   "outputs": [],
   "source": [
    "# Célula: Top 10 Produtos Mais Vendidos\n",
    "query = \"\"\"\n",
    "SELECT \n",
    "    p.product_name,\n",
    "    SUM(i.quantity) AS quantidade_total\n",
    "FROM Item i\n",
    "JOIN Product p ON i.product_id = p.product_id\n",
    "GROUP BY p.product_name\n",
    "ORDER BY quantidade_total DESC\n",
    "LIMIT 10;\n",
    "\"\"\"\n",
    "\n",
    "df = pd.read_sql(query, conn)\n",
    "\n",
    "plt.figure(figsize=(10,6))\n",
    "sns.barplot(data=df, x=\"quantidade_total\", y=\"product_name\", palette=\"magma\")\n",
    "plt.title(\"Top 10 Produtos Mais Vendidos\")\n",
    "plt.xlabel(\"Quantidade Total\")\n",
    "plt.ylabel(\"Produto\")\n",
    "plt.tight_layout()\n",
    "plt.show()\n"
   ]
  },
  {
   "cell_type": "markdown",
   "metadata": {},
   "source": [
    "Visualiza os produtos com maior volume de vendas, o que pode orientar estratégias de estoque, marketing e análise de demanda."
   ]
  },
  {
   "cell_type": "code",
   "execution_count": null,
   "metadata": {},
   "outputs": [],
   "source": [
    "# Célula: Vendas por Segmento com ROLLUP\n",
    "query = \"\"\"\n",
    "SELECT \n",
    "    IF(GROUPING(c.segment), 'TOTAL', c.segment) AS segmento,\n",
    "    SUM(o.sales_order) AS total_vendas\n",
    "FROM Orders o\n",
    "JOIN Customer c ON o.customer_id = c.customer_id\n",
    "GROUP BY c.segment WITH ROLLUP;\n",
    "\"\"\"\n",
    "\n",
    "df = pd.read_sql(query, conn)\n",
    "\n",
    "plt.figure(figsize=(8,6))\n",
    "sns.barplot(data=df, x=\"segmento\", y=\"total_vendas\", palette=\"coolwarm\")\n",
    "plt.title(\"Vendas por Segmento de Cliente (com Total Geral)\")\n",
    "plt.xlabel(\"Segmento\")\n",
    "plt.ylabel(\"Total de Vendas\")\n",
    "plt.tight_layout()\n",
    "plt.show()\n"
   ]
  },
  {
   "cell_type": "markdown",
   "metadata": {},
   "source": [
    "A query com ROLLUP mostra as vendas detalhadas por segmento e inclui uma linha de total geral, facilitando a comparação entre segmentos e a visualização do desempenho global."
   ]
  },
  {
   "cell_type": "code",
   "execution_count": null,
   "metadata": {},
   "outputs": [],
   "source": [
    "# Célula: Ranking de Produtos por Lucro\n",
    "query = \"\"\"\n",
    "SELECT \n",
    "    product_name,\n",
    "    total_lucro,\n",
    "    RANK() OVER (ORDER BY total_lucro DESC) AS ranking\n",
    "FROM (\n",
    "    SELECT \n",
    "        p.product_name,\n",
    "        SUM(i.profit) AS total_lucro\n",
    "    FROM Item i\n",
    "    JOIN Product p ON i.product_id = p.product_id\n",
    "    GROUP BY p.product_name\n",
    ") AS sub\n",
    "ORDER BY ranking\n",
    "LIMIT 10;\n",
    "\"\"\"\n",
    "\n",
    "df = pd.read_sql(query, conn)\n",
    "\n",
    "plt.figure(figsize=(10,6))\n",
    "sns.barplot(data=df, x=\"ranking\", y=\"total_lucro\", palette=\"Spectral\")\n",
    "plt.title(\"Ranking de Produtos por Lucro\")\n",
    "plt.xlabel(\"Ranking\")\n",
    "plt.ylabel(\"Total de Lucro\")\n",
    "for index, row in df.iterrows():\n",
    "    plt.text(row.name, row.total_lucro, row.product_name, color='black', ha=\"center\")\n",
    "plt.tight_layout()\n",
    "plt.show()\n"
   ]
  },
  {
   "cell_type": "markdown",
   "metadata": {},
   "source": [
    "Este gráfico ordena os produtos por lucro, atribuindo um ranking. Permite identificar rapidamente quais produtos são mais rentáveis."
   ]
  },
  {
   "cell_type": "code",
   "execution_count": null,
   "metadata": {},
   "outputs": [],
   "source": [
    "# Célula: Acumulação de Vendas por Estado (Running Total)\n",
    "query = \"\"\"\n",
    "SELECT \n",
    "    s.state_name,\n",
    "    c.full_date,\n",
    "    SUM(o.sales_order) OVER (PARTITION BY s.state_name ORDER BY c.full_date) AS running_total\n",
    "FROM Orders o\n",
    "JOIN Location l ON o.location_id = l.location_id\n",
    "JOIN State s ON l.state_id = s.state_id\n",
    "JOIN Calendar c ON o.order_calendar_id = c.calendar_id\n",
    "ORDER BY s.state_name, c.full_date;\n",
    "\"\"\"\n",
    "\n",
    "df = pd.read_sql(query, conn)\n",
    "df['full_date'] = pd.to_datetime(df['full_date'])\n",
    "\n",
    "plt.figure(figsize=(14, 8))\n",
    "sns.lineplot(data=df, x=\"full_date\", y=\"running_total\", hue=\"state_name\", marker=\"o\")\n",
    "plt.title(\"Running Total de Vendas por Estado\")\n",
    "plt.xlabel(\"Data\")\n",
    "plt.ylabel(\"Running Total de Vendas\")\n",
    "plt.xticks(rotation=45)\n",
    "plt.legend(bbox_to_anchor=(1.05, 1), loc='upper left')\n",
    "plt.tight_layout()\n",
    "plt.show()\n"
   ]
  },
  {
   "cell_type": "markdown",
   "metadata": {},
   "source": [
    "O gráfico mostra, para um estado específico, como as vendas vão se acumulando ao longo do tempo. Essa visualização é útil para compreender tendências e a progressão das receitas por estado."
   ]
  },
  {
   "cell_type": "code",
   "execution_count": null,
   "metadata": {},
   "outputs": [],
   "source": [
    "query7 = \"\"\"\n",
    "SELECT \n",
    "    sh.ship_mode,\n",
    "    AVG(DATEDIFF(c2.full_date, c1.full_date)) AS tempo_medio_envio\n",
    "FROM Orders o\n",
    "JOIN Shipping sh ON o.shipping_id = sh.shipping_id\n",
    "JOIN Calendar c1 ON o.order_calendar_id = c1.calendar_id\n",
    "JOIN Calendar c2 ON o.shipping_calendar_id = c2.calendar_id\n",
    "GROUP BY sh.ship_mode\n",
    "ORDER BY tempo_medio_envio;\n",
    "\"\"\"\n",
    "df7 = pd.read_sql(query7, conn)\n",
    "\n",
    "plt.figure(figsize=(10,6))\n",
    "sns.barplot(data=df7, x=\"ship_mode\", y=\"tempo_medio_envio\")\n",
    "plt.title(\"Tempo Médio de Envio por Método\")\n",
    "plt.xlabel(\"Modo de Envio\")\n",
    "plt.ylabel(\"Tempo Médio (dias)\")\n",
    "plt.tight_layout()\n",
    "plt.show()\n"
   ]
  },
  {
   "cell_type": "markdown",
   "metadata": {},
   "source": [
    "Permite identificar qual o método de envio que apresenta maior ou menor tempo médio entre a encomenda e o envio, ajudando a analisar a eficiência logística."
   ]
  },
  {
   "cell_type": "code",
   "execution_count": null,
   "metadata": {},
   "outputs": [],
   "source": [
    "query8 = \"\"\"\n",
    "SELECT \n",
    "    sh.ship_mode,\n",
    "    ROUND(SUM(o.lost_value_order), 2) AS valor_perdido\n",
    "FROM Orders o\n",
    "JOIN Shipping sh ON o.shipping_id = sh.shipping_id\n",
    "GROUP BY sh.ship_mode\n",
    "ORDER BY valor_perdido DESC;\n",
    "\"\"\"\n",
    "df8 = pd.read_sql(query8, conn)\n",
    "\n",
    "plt.figure(figsize=(10,6))\n",
    "sns.barplot(data=df8, x=\"ship_mode\", y=\"valor_perdido\")\n",
    "plt.title(\"Valor Perdido por Método de Envio\")\n",
    "plt.xlabel(\"Modo de Envio\")\n",
    "plt.ylabel(\"Valor Perdido (monetário)\")\n",
    "plt.tight_layout()\n",
    "plt.show()\n"
   ]
  },
  {
   "cell_type": "markdown",
   "metadata": {},
   "source": [
    "Este gráfico mostra o montante de receita perdido devido aos descontos aplicados, agrupado por método de envio – possibilita identificar se há algum canal que afeta significativamente a rentabilidade."
   ]
  },
  {
   "cell_type": "code",
   "execution_count": null,
   "metadata": {},
   "outputs": [],
   "source": [
    "query9 = \"\"\"\n",
    "SELECT \n",
    "    cat.category_name,\n",
    "    SUM(i.sales) AS total_vendas,\n",
    "    SUM(i.profit) AS total_lucro,\n",
    "    ROUND(AVG(i.discount), 2) AS desconto_medio\n",
    "FROM Item i\n",
    "JOIN Product p ON i.product_id = p.product_id\n",
    "JOIN Category cat ON p.category_id = cat.category_id\n",
    "GROUP BY cat.category_name\n",
    "ORDER BY total_vendas DESC;\n",
    "\"\"\"\n",
    "df9 = pd.read_sql(query9, conn)\n",
    "\n",
    "# Gráfico de barras duplo para vendas e lucro\n",
    "fig, ax1 = plt.subplots(figsize=(10,6))\n",
    "\n",
    "sns.barplot(data=df9, x=\"category_name\", y=\"total_vendas\", color=\"skyblue\", ax=ax1)\n",
    "ax1.set_xlabel(\"Categoria\")\n",
    "ax1.set_ylabel(\"Total de Vendas\", color=\"blue\")\n",
    "ax1.tick_params(axis=\"y\", labelcolor=\"blue\")\n",
    "plt.xticks(rotation=45)\n",
    "\n",
    "# Em cima do mesmo gráfico, adiciona lucro (em outra escala ou sobreposto)\n",
    "ax2 = ax1.twinx()\n",
    "sns.lineplot(data=df9, x=\"category_name\", y=\"total_lucro\", marker=\"o\", color=\"red\", ax=ax2)\n",
    "ax2.set_ylabel(\"Total de Lucro\", color=\"red\")\n",
    "ax2.tick_params(axis=\"y\", labelcolor=\"red\")\n",
    "\n",
    "plt.title(\"Vendas e Lucro por Categoria de Produto\")\n",
    "plt.tight_layout()\n",
    "plt.show()\n"
   ]
  },
  {
   "cell_type": "markdown",
   "metadata": {},
   "source": [
    "A análise combina duas medidas: o volume de vendas e o lucro por categoria, além de apresentar o desconto médio (que pode ser mostrado em um comentário ou tabela extra). Isso ajuda a identificar quais categorias são mais rentáveis e como as políticas de desconto impactam o desempenho."
   ]
  },
  {
   "cell_type": "code",
   "execution_count": null,
   "metadata": {},
   "outputs": [],
   "source": [
    "query10 = \"\"\"\n",
    "SELECT \n",
    "    s.state_name,\n",
    "    SUM(o.sales_order) AS total_vendas,\n",
    "    SUM(SUM(o.sales_order)) OVER (ORDER BY s.state_name) AS vendas_acumuladas,\n",
    "    ROUND(SUM(SUM(o.sales_order)) OVER (ORDER BY s.state_name) / \n",
    "          (SELECT SUM(sales_order) FROM Orders) * 100, 2) AS percentual_acumulado\n",
    "FROM Orders o\n",
    "JOIN Location l ON o.location_id = l.location_id\n",
    "JOIN State s ON l.state_id = s.state_id\n",
    "GROUP BY s.state_name\n",
    "ORDER BY percentual_acumulado;\n",
    "\"\"\"\n",
    "df10 = pd.read_sql(query10, conn)\n",
    "\n",
    "plt.figure(figsize=(12,6))\n",
    "sns.barplot(data=df10, x=\"state_name\", y=\"percentual_acumulado\")\n",
    "plt.title(\"Percentual Acumulado de Vendas por Estado\")\n",
    "plt.xlabel(\"Estado\")\n",
    "plt.ylabel(\"Percentual Acumulado (%)\")\n",
    "plt.xticks(rotation=45)\n",
    "plt.tight_layout()\n",
    "plt.show()\n"
   ]
  },
  {
   "cell_type": "markdown",
   "metadata": {},
   "source": [
    "O gráfico indica, em ordem crescente de percentual acumulado, como as vendas se distribuem entre os estados, permitindo identificar quais estados concentram a maior parcela das receitas."
   ]
  }
 ],
 "metadata": {
  "language_info": {
   "name": "python"
  }
 },
 "nbformat": 4,
 "nbformat_minor": 2
}
